{
  "nbformat": 4,
  "nbformat_minor": 0,
  "metadata": {
    "colab": {
      "provenance": [],
      "collapsed_sections": [],
      "mount_file_id": "13LFZ-YzLweYMMn8PitSVWLj_RhfIGWr1",
      "authorship_tag": "ABX9TyOu0yyIjmm9Yaf7a8+Uoy6w",
      "include_colab_link": true
    },
    "kernelspec": {
      "name": "python3",
      "display_name": "Python 3"
    },
    "language_info": {
      "name": "python"
    }
  },
  "cells": [
    {
      "cell_type": "markdown",
      "metadata": {
        "id": "view-in-github",
        "colab_type": "text"
      },
      "source": [
        "<a href=\"https://colab.research.google.com/github/jefoshub/stf-ilhas2/blob/main/M%C3%93DULO_2_MESCLAGEM_DE_DATASETS.ipynb\" target=\"_parent\"><img src=\"https://colab.research.google.com/assets/colab-badge.svg\" alt=\"Open In Colab\"/></a>"
      ]
    },
    {
      "cell_type": "markdown",
      "source": [
        "# MÓDULO 2 - MESCLAGEM DE DATASETS"
      ],
      "metadata": {
        "id": "Exp2WPGwR9XG"
      }
    },
    {
      "cell_type": "markdown",
      "source": [
        "UFRRJ - MESTRADO INTERDISCIPLINAR EM HUMANIDADES DIGITAIS\n",
        "\n",
        "Jeferson dos Santos Antunes Huaracha (jefsantunes@gmail.com)\n",
        "\n",
        "Orientadores: Prof. Dr. Leandro Guimarães Marques Alvim \n",
        "              Prof. Dr. Rodrigo de Souza Tavares\n",
        "\n",
        "Última verificação do funcionamento: Outubro/22"
      ],
      "metadata": {
        "id": "9JGmmCzWSbUF"
      }
    },
    {
      "cell_type": "markdown",
      "source": [
        "**Sobre este módulo**\n",
        "\n",
        "Código desenvolvido para os fins da pesquisa\n",
        "\n",
        "**Ilhas, Arquipélagos ou Continentes? Uma Análise Sobre a Geografia do Supremo Tribunal Federal**\n",
        "\n",
        "Neste módulo são mesclados arquivos csv de duas origens. A primeira origem se refere a arquivos exportados diretamente do site jurisprudência do STF sendo um de ADIs e outro de HCs. Para o funcionamento adequado do código abaixo é preciso que os arquivos csv baixados sejam renomeados com inclusão da designação da classe processual: \"-ADIs\" ou \"-HCs\".\n",
        "Os outros datasets são os de ADIs e de HCs produzidos no módulo 1. "
      ],
      "metadata": {
        "id": "0STEPZ56TuX5"
      }
    },
    {
      "cell_type": "markdown",
      "source": [
        "#Escolha (Classe Processual)"
      ],
      "metadata": {
        "id": "RwyVRqVrUI4C"
      }
    },
    {
      "cell_type": "code",
      "source": [
        "import pandas as pd"
      ],
      "metadata": {
        "id": "BtsBIexvRqHW"
      },
      "execution_count": 26,
      "outputs": []
    },
    {
      "cell_type": "code",
      "source": [
        "# Escolhendo classe de acórdãos a serem processados (ADIs ou HCs)\n",
        "choice = '0'\n",
        "while choice == '0':\n",
        "    print(\"Escolha a classe de acórdãos a ser processada\")\n",
        "    print(\"1 - Ações Diretas de Inconstitucionalidade \")\n",
        "    print(\"2 – Habeas Corpus\")\n",
        "    print(\"3 - Sair\")\n",
        "\n",
        "    choice = input(\"Digite o número e pressione ENTER : \")\n",
        "\n",
        "    if choice == \"1\":\n",
        "        print(\"Processando ADIs\")\n",
        "        titulo='ADI'\n",
        "\n",
        "    elif choice == \"2\":\n",
        "        print(\"Processando HCs\")\n",
        "        titulo='HC'\n",
        "\n",
        "    elif choice == \"3\":\n",
        "        print(\"Finalizando\")\n",
        "        exit()\n",
        "\n",
        "    else:\n",
        "        print(\"opção Inválida\")\n",
        "        exit()"
      ],
      "metadata": {
        "id": "kl0jXAsxUD1z",
        "colab": {
          "base_uri": "https://localhost:8080/"
        },
        "outputId": "afd60006-a5ec-4ae3-a05b-2316c0785e02"
      },
      "execution_count": 27,
      "outputs": [
        {
          "output_type": "stream",
          "name": "stdout",
          "text": [
            "Escolha a classe de acórdãos a ser processada\n",
            "1 - Ações Diretas de Inconstitucionalidade \n",
            "2 – Habeas Corpus\n",
            "3 - Sair\n",
            "Digite o número e pressione ENTER : 2\n",
            "Processando HCs\n"
          ]
        }
      ]
    },
    {
      "cell_type": "markdown",
      "source": [
        "hcs1 recebe o conteúdo do arquivo scraped.csv produzido através da raspagem de dados executada por meio do selenium.\n",
        "\n",
        "hcs2 recebe o conteúdo do arquivo baixado do site do STF, resultados-de-acordaos.csv"
      ],
      "metadata": {
        "id": "lXLfw45xGfbv"
      }
    },
    {
      "cell_type": "code",
      "metadata": {
        "id": "WSdwJEtjb4dd"
      },
      "source": [
        "if choice =='1':\n",
        "  hcs1 = pd.read_csv('scraped-ADIs.csv', delimiter=';', on_bad_lines='skip', encoding='utf-8',)\n",
        "  hcs2= pd.read_csv('resultados-de-acordaos-ADIs.csv', encoding='utf-8', delimiter=',') \n",
        "\n",
        "if choice =='2':\n",
        "  hcs1 = pd.read_csv('scraped-HCs.csv', delimiter=';', on_bad_lines='skip', encoding='utf-8',)\n",
        "  hcs2= pd.read_csv('resultados-de-acordaos-HCs.csv', encoding='utf-8', delimiter=',') \n"
      ],
      "execution_count": 28,
      "outputs": []
    },
    {
      "cell_type": "code",
      "source": [
        "#Verificando tamnho dos datasets\n",
        "print(len(hcs1))\n",
        "print(len(hcs2))"
      ],
      "metadata": {
        "colab": {
          "base_uri": "https://localhost:8080/"
        },
        "id": "dBSa_yz0JCi_",
        "outputId": "1d16ab74-b12f-4302-875f-f0d86d1ef0ae"
      },
      "execution_count": 29,
      "outputs": [
        {
          "output_type": "stream",
          "name": "stdout",
          "text": [
            "208\n",
            "208\n"
          ]
        }
      ]
    },
    {
      "cell_type": "code",
      "source": [
        "#Removendo duplicatas\n",
        "hcs1=hcs1.drop_duplicates()\n",
        "print(len(hcs1))\n",
        "hcs2=hcs2.drop_duplicates()\n",
        "print(len(hcs2))"
      ],
      "metadata": {
        "colab": {
          "base_uri": "https://localhost:8080/"
        },
        "id": "LOWKJEvzJJDa",
        "outputId": "beb171ec-d04d-4d9b-b1c5-39d39d6fb1f7"
      },
      "execution_count": 30,
      "outputs": [
        {
          "output_type": "stream",
          "name": "stdout",
          "text": [
            "208\n",
            "208\n"
          ]
        }
      ]
    },
    {
      "cell_type": "code",
      "source": [
        "hcs1.head()"
      ],
      "metadata": {
        "colab": {
          "base_uri": "https://localhost:8080/",
          "height": 372
        },
        "id": "tVgivhPBZ2EI",
        "outputId": "cba35da3-9f55-4feb-9e88-a65d61c3f154"
      },
      "execution_count": 31,
      "outputs": [
        {
          "output_type": "execute_result",
          "data": {
            "text/plain": [
              "   Column1                    HC  UF                RELATOR DATA-JULGAMENTO  \\\n",
              "0        0        HC 215089 AgR   PR  LUIZ FUX (Presidente)      06/06/2022   \n",
              "1        1  HC 209608 ED-AgR-ED   SP          NUNES MARQUES      23/05/2022   \n",
              "2        2     HC 212882 AgR-ED   RJ    RICARDO LEWANDOWSKI      16/05/2022   \n",
              "3        3        HC 214006 AgR   SP             ROSA WEBER      09/05/2022   \n",
              "4        4     HC 208677 AgR-ED   RS  LUIZ FUX (Presidente)      22/04/2022   \n",
              "\n",
              "                                              PARTES  \\\n",
              "0  AGTE.(S)  : M.G.D.  | ADV.(A/S)  : FAGNER SCHN...   \n",
              "1  EMBTE.(S)  : LEANDRO BRESSANE RAMOS  | ADV.(A/...   \n",
              "2  EMBTE.(S)  : KELLENSON AYRES KELLINHO FIGUEIRE...   \n",
              "3  AGTE.(S)  : DARCI JOSE VEDOIN  | ADV.(A/S)  : ...   \n",
              "4  EMBTE.(S)  : ALCIR JOSÉ HENDGES  | ADV.(A/S)  ...   \n",
              "\n",
              "                                              EMENTA  \\\n",
              "0  Ementa: AGRAVO INTERNO NO HABEAS CORPUS. PENAL...   \n",
              "1  EMENTA PROCESSO PENAL. EMBARGOS DE DECLARAÇÃO ...   \n",
              "2  Ementa: EMBARGOS DECLARATÓRIOS NO AGRAVO REGIM...   \n",
              "3  EMENTA AGRAVO REGIMENTAL NO HABEAS CORPUS. PRI...   \n",
              "4  EMENTA: EMBARGOS DE DECLARAÇÃO NO AGRAVO INTER...   \n",
              "\n",
              "                                             DECISÃO  \\\n",
              "0  O Tribunal, por unanimidade, negou provimento ...   \n",
              "1  O Tribunal, por unanimidade, conheceu dos emba...   \n",
              "2  O Tribunal, por unanimidade, rejeitou os embar...   \n",
              "3  O Tribunal, por unanimidade, conheceu do agrav...   \n",
              "4  O Tribunal, por unanimidade, negou provimento ...   \n",
              "\n",
              "                                                 URL  \n",
              "0  https://jurisprudencia.stf.jus.br/pages/search...  \n",
              "1  https://jurisprudencia.stf.jus.br/pages/search...  \n",
              "2  https://jurisprudencia.stf.jus.br/pages/search...  \n",
              "3  https://jurisprudencia.stf.jus.br/pages/search...  \n",
              "4  https://jurisprudencia.stf.jus.br/pages/search...  "
            ],
            "text/html": [
              "\n",
              "  <div id=\"df-9dfa4332-299e-4e80-9080-32471ca9cf9b\">\n",
              "    <div class=\"colab-df-container\">\n",
              "      <div>\n",
              "<style scoped>\n",
              "    .dataframe tbody tr th:only-of-type {\n",
              "        vertical-align: middle;\n",
              "    }\n",
              "\n",
              "    .dataframe tbody tr th {\n",
              "        vertical-align: top;\n",
              "    }\n",
              "\n",
              "    .dataframe thead th {\n",
              "        text-align: right;\n",
              "    }\n",
              "</style>\n",
              "<table border=\"1\" class=\"dataframe\">\n",
              "  <thead>\n",
              "    <tr style=\"text-align: right;\">\n",
              "      <th></th>\n",
              "      <th>Column1</th>\n",
              "      <th>HC</th>\n",
              "      <th>UF</th>\n",
              "      <th>RELATOR</th>\n",
              "      <th>DATA-JULGAMENTO</th>\n",
              "      <th>PARTES</th>\n",
              "      <th>EMENTA</th>\n",
              "      <th>DECISÃO</th>\n",
              "      <th>URL</th>\n",
              "    </tr>\n",
              "  </thead>\n",
              "  <tbody>\n",
              "    <tr>\n",
              "      <th>0</th>\n",
              "      <td>0</td>\n",
              "      <td>HC 215089 AgR</td>\n",
              "      <td>PR</td>\n",
              "      <td>LUIZ FUX (Presidente)</td>\n",
              "      <td>06/06/2022</td>\n",
              "      <td>AGTE.(S)  : M.G.D.  | ADV.(A/S)  : FAGNER SCHN...</td>\n",
              "      <td>Ementa: AGRAVO INTERNO NO HABEAS CORPUS. PENAL...</td>\n",
              "      <td>O Tribunal, por unanimidade, negou provimento ...</td>\n",
              "      <td>https://jurisprudencia.stf.jus.br/pages/search...</td>\n",
              "    </tr>\n",
              "    <tr>\n",
              "      <th>1</th>\n",
              "      <td>1</td>\n",
              "      <td>HC 209608 ED-AgR-ED</td>\n",
              "      <td>SP</td>\n",
              "      <td>NUNES MARQUES</td>\n",
              "      <td>23/05/2022</td>\n",
              "      <td>EMBTE.(S)  : LEANDRO BRESSANE RAMOS  | ADV.(A/...</td>\n",
              "      <td>EMENTA PROCESSO PENAL. EMBARGOS DE DECLARAÇÃO ...</td>\n",
              "      <td>O Tribunal, por unanimidade, conheceu dos emba...</td>\n",
              "      <td>https://jurisprudencia.stf.jus.br/pages/search...</td>\n",
              "    </tr>\n",
              "    <tr>\n",
              "      <th>2</th>\n",
              "      <td>2</td>\n",
              "      <td>HC 212882 AgR-ED</td>\n",
              "      <td>RJ</td>\n",
              "      <td>RICARDO LEWANDOWSKI</td>\n",
              "      <td>16/05/2022</td>\n",
              "      <td>EMBTE.(S)  : KELLENSON AYRES KELLINHO FIGUEIRE...</td>\n",
              "      <td>Ementa: EMBARGOS DECLARATÓRIOS NO AGRAVO REGIM...</td>\n",
              "      <td>O Tribunal, por unanimidade, rejeitou os embar...</td>\n",
              "      <td>https://jurisprudencia.stf.jus.br/pages/search...</td>\n",
              "    </tr>\n",
              "    <tr>\n",
              "      <th>3</th>\n",
              "      <td>3</td>\n",
              "      <td>HC 214006 AgR</td>\n",
              "      <td>SP</td>\n",
              "      <td>ROSA WEBER</td>\n",
              "      <td>09/05/2022</td>\n",
              "      <td>AGTE.(S)  : DARCI JOSE VEDOIN  | ADV.(A/S)  : ...</td>\n",
              "      <td>EMENTA AGRAVO REGIMENTAL NO HABEAS CORPUS. PRI...</td>\n",
              "      <td>O Tribunal, por unanimidade, conheceu do agrav...</td>\n",
              "      <td>https://jurisprudencia.stf.jus.br/pages/search...</td>\n",
              "    </tr>\n",
              "    <tr>\n",
              "      <th>4</th>\n",
              "      <td>4</td>\n",
              "      <td>HC 208677 AgR-ED</td>\n",
              "      <td>RS</td>\n",
              "      <td>LUIZ FUX (Presidente)</td>\n",
              "      <td>22/04/2022</td>\n",
              "      <td>EMBTE.(S)  : ALCIR JOSÉ HENDGES  | ADV.(A/S)  ...</td>\n",
              "      <td>EMENTA: EMBARGOS DE DECLARAÇÃO NO AGRAVO INTER...</td>\n",
              "      <td>O Tribunal, por unanimidade, negou provimento ...</td>\n",
              "      <td>https://jurisprudencia.stf.jus.br/pages/search...</td>\n",
              "    </tr>\n",
              "  </tbody>\n",
              "</table>\n",
              "</div>\n",
              "      <button class=\"colab-df-convert\" onclick=\"convertToInteractive('df-9dfa4332-299e-4e80-9080-32471ca9cf9b')\"\n",
              "              title=\"Convert this dataframe to an interactive table.\"\n",
              "              style=\"display:none;\">\n",
              "        \n",
              "  <svg xmlns=\"http://www.w3.org/2000/svg\" height=\"24px\"viewBox=\"0 0 24 24\"\n",
              "       width=\"24px\">\n",
              "    <path d=\"M0 0h24v24H0V0z\" fill=\"none\"/>\n",
              "    <path d=\"M18.56 5.44l.94 2.06.94-2.06 2.06-.94-2.06-.94-.94-2.06-.94 2.06-2.06.94zm-11 1L8.5 8.5l.94-2.06 2.06-.94-2.06-.94L8.5 2.5l-.94 2.06-2.06.94zm10 10l.94 2.06.94-2.06 2.06-.94-2.06-.94-.94-2.06-.94 2.06-2.06.94z\"/><path d=\"M17.41 7.96l-1.37-1.37c-.4-.4-.92-.59-1.43-.59-.52 0-1.04.2-1.43.59L10.3 9.45l-7.72 7.72c-.78.78-.78 2.05 0 2.83L4 21.41c.39.39.9.59 1.41.59.51 0 1.02-.2 1.41-.59l7.78-7.78 2.81-2.81c.8-.78.8-2.07 0-2.86zM5.41 20L4 18.59l7.72-7.72 1.47 1.35L5.41 20z\"/>\n",
              "  </svg>\n",
              "      </button>\n",
              "      \n",
              "  <style>\n",
              "    .colab-df-container {\n",
              "      display:flex;\n",
              "      flex-wrap:wrap;\n",
              "      gap: 12px;\n",
              "    }\n",
              "\n",
              "    .colab-df-convert {\n",
              "      background-color: #E8F0FE;\n",
              "      border: none;\n",
              "      border-radius: 50%;\n",
              "      cursor: pointer;\n",
              "      display: none;\n",
              "      fill: #1967D2;\n",
              "      height: 32px;\n",
              "      padding: 0 0 0 0;\n",
              "      width: 32px;\n",
              "    }\n",
              "\n",
              "    .colab-df-convert:hover {\n",
              "      background-color: #E2EBFA;\n",
              "      box-shadow: 0px 1px 2px rgba(60, 64, 67, 0.3), 0px 1px 3px 1px rgba(60, 64, 67, 0.15);\n",
              "      fill: #174EA6;\n",
              "    }\n",
              "\n",
              "    [theme=dark] .colab-df-convert {\n",
              "      background-color: #3B4455;\n",
              "      fill: #D2E3FC;\n",
              "    }\n",
              "\n",
              "    [theme=dark] .colab-df-convert:hover {\n",
              "      background-color: #434B5C;\n",
              "      box-shadow: 0px 1px 3px 1px rgba(0, 0, 0, 0.15);\n",
              "      filter: drop-shadow(0px 1px 2px rgba(0, 0, 0, 0.3));\n",
              "      fill: #FFFFFF;\n",
              "    }\n",
              "  </style>\n",
              "\n",
              "      <script>\n",
              "        const buttonEl =\n",
              "          document.querySelector('#df-9dfa4332-299e-4e80-9080-32471ca9cf9b button.colab-df-convert');\n",
              "        buttonEl.style.display =\n",
              "          google.colab.kernel.accessAllowed ? 'block' : 'none';\n",
              "\n",
              "        async function convertToInteractive(key) {\n",
              "          const element = document.querySelector('#df-9dfa4332-299e-4e80-9080-32471ca9cf9b');\n",
              "          const dataTable =\n",
              "            await google.colab.kernel.invokeFunction('convertToInteractive',\n",
              "                                                     [key], {});\n",
              "          if (!dataTable) return;\n",
              "\n",
              "          const docLinkHtml = 'Like what you see? Visit the ' +\n",
              "            '<a target=\"_blank\" href=https://colab.research.google.com/notebooks/data_table.ipynb>data table notebook</a>'\n",
              "            + ' to learn more about interactive tables.';\n",
              "          element.innerHTML = '';\n",
              "          dataTable['output_type'] = 'display_data';\n",
              "          await google.colab.output.renderOutput(dataTable, element);\n",
              "          const docLink = document.createElement('div');\n",
              "          docLink.innerHTML = docLinkHtml;\n",
              "          element.appendChild(docLink);\n",
              "        }\n",
              "      </script>\n",
              "    </div>\n",
              "  </div>\n",
              "  "
            ]
          },
          "metadata": {},
          "execution_count": 31
        }
      ]
    },
    {
      "cell_type": "code",
      "source": [
        "#Renomeando Coluna Título\n",
        "if choice =='1':\n",
        "  hcs1 = hcs1.rename(columns={\"HC\":\"ADI\"})\n",
        "  hcs2 = hcs2.rename(columns={\"Titulo\":\"ADI\"})\n",
        "\n",
        "if choice =='2':\n",
        "  hcs2 = hcs2.rename(columns={\"Titulo\":\"HC\"})\n"
      ],
      "metadata": {
        "id": "ynR1bvLFXRFk"
      },
      "execution_count": 32,
      "outputs": []
    },
    {
      "cell_type": "code",
      "source": [
        "#removendo espaço no fim das strings\n",
        "#hcs1 = hcs1.iloc[1: , :]\n",
        "#hcs2 = hcs2.iloc[1: , :]\n",
        "\n",
        "hcs1[titulo]=hcs1[titulo].str.strip()\n",
        "hcs2[titulo]=hcs2[titulo].str.strip()"
      ],
      "metadata": {
        "id": "Ay9iLUJMsci9"
      },
      "execution_count": 33,
      "outputs": []
    },
    {
      "cell_type": "code",
      "source": [
        "#Excluindo colunas desnecessárias (repetidas)\n",
        "hcs1=hcs1.loc[:, ~hcs1.columns.isin(['ID', 'RELATOR', 'EMENTA'])]\n"
      ],
      "metadata": {
        "id": "BgJOx69kaq0h"
      },
      "execution_count": 34,
      "outputs": []
    },
    {
      "cell_type": "markdown",
      "source": [
        "#Comparando Datasets"
      ],
      "metadata": {
        "id": "mmz73zY_akO6"
      }
    },
    {
      "cell_type": "code",
      "source": [
        "em_falta=[]"
      ],
      "metadata": {
        "id": "NTHX8GqfY5RU"
      },
      "execution_count": 35,
      "outputs": []
    },
    {
      "cell_type": "code",
      "source": [
        "for i in range(0,len(hcs2)):\n",
        "  c1=hcs2[titulo][i]\n",
        "  if c1 not in hcs1[titulo].values:\n",
        "    #print(hcs2['HC'][i])\n",
        "    em_falta.append(hcs2[titulo][i])"
      ],
      "metadata": {
        "id": "fbn6ipMx30Gc"
      },
      "execution_count": 36,
      "outputs": []
    },
    {
      "cell_type": "code",
      "source": [
        "cont_f=0\n",
        "for i in range(0,len(hcs2)):\n",
        "  for h in em_falta:\n",
        "    if h in (hcs2[titulo][i]):\n",
        "      print('Em falta')\n",
        "      print(hcs2[titulo][i])\n",
        "      print(hcs2['Data de julgamento'][i])\n",
        "      print('----------')\n",
        "      cont_f+=1"
      ],
      "metadata": {
        "id": "Arz3xBP2aAJ8"
      },
      "execution_count": 37,
      "outputs": []
    },
    {
      "cell_type": "code",
      "source": [
        "print(cont_f)"
      ],
      "metadata": {
        "colab": {
          "base_uri": "https://localhost:8080/"
        },
        "id": "UuG3_-dAbFMo",
        "outputId": "538a3068-07fc-4a10-bc14-d56ec33cc672"
      },
      "execution_count": 38,
      "outputs": [
        {
          "output_type": "stream",
          "name": "stdout",
          "text": [
            "0\n"
          ]
        }
      ]
    },
    {
      "cell_type": "code",
      "source": [
        "hcs1.head()"
      ],
      "metadata": {
        "colab": {
          "base_uri": "https://localhost:8080/",
          "height": 250
        },
        "id": "TKqwV8vVXZ3w",
        "outputId": "b7fa6870-ca6c-4141-fe51-3d24d1f37fb4"
      },
      "execution_count": 39,
      "outputs": [
        {
          "output_type": "execute_result",
          "data": {
            "text/plain": [
              "   Column1                   HC  UF DATA-JULGAMENTO  \\\n",
              "0        0        HC 215089 AgR  PR      06/06/2022   \n",
              "1        1  HC 209608 ED-AgR-ED  SP      23/05/2022   \n",
              "2        2     HC 212882 AgR-ED  RJ      16/05/2022   \n",
              "3        3        HC 214006 AgR  SP      09/05/2022   \n",
              "4        4     HC 208677 AgR-ED  RS      22/04/2022   \n",
              "\n",
              "                                              PARTES  \\\n",
              "0  AGTE.(S)  : M.G.D.  | ADV.(A/S)  : FAGNER SCHN...   \n",
              "1  EMBTE.(S)  : LEANDRO BRESSANE RAMOS  | ADV.(A/...   \n",
              "2  EMBTE.(S)  : KELLENSON AYRES KELLINHO FIGUEIRE...   \n",
              "3  AGTE.(S)  : DARCI JOSE VEDOIN  | ADV.(A/S)  : ...   \n",
              "4  EMBTE.(S)  : ALCIR JOSÉ HENDGES  | ADV.(A/S)  ...   \n",
              "\n",
              "                                             DECISÃO  \\\n",
              "0  O Tribunal, por unanimidade, negou provimento ...   \n",
              "1  O Tribunal, por unanimidade, conheceu dos emba...   \n",
              "2  O Tribunal, por unanimidade, rejeitou os embar...   \n",
              "3  O Tribunal, por unanimidade, conheceu do agrav...   \n",
              "4  O Tribunal, por unanimidade, negou provimento ...   \n",
              "\n",
              "                                                 URL  \n",
              "0  https://jurisprudencia.stf.jus.br/pages/search...  \n",
              "1  https://jurisprudencia.stf.jus.br/pages/search...  \n",
              "2  https://jurisprudencia.stf.jus.br/pages/search...  \n",
              "3  https://jurisprudencia.stf.jus.br/pages/search...  \n",
              "4  https://jurisprudencia.stf.jus.br/pages/search...  "
            ],
            "text/html": [
              "\n",
              "  <div id=\"df-9ffda9db-fac2-44f1-baf3-b03bb5c3cb14\">\n",
              "    <div class=\"colab-df-container\">\n",
              "      <div>\n",
              "<style scoped>\n",
              "    .dataframe tbody tr th:only-of-type {\n",
              "        vertical-align: middle;\n",
              "    }\n",
              "\n",
              "    .dataframe tbody tr th {\n",
              "        vertical-align: top;\n",
              "    }\n",
              "\n",
              "    .dataframe thead th {\n",
              "        text-align: right;\n",
              "    }\n",
              "</style>\n",
              "<table border=\"1\" class=\"dataframe\">\n",
              "  <thead>\n",
              "    <tr style=\"text-align: right;\">\n",
              "      <th></th>\n",
              "      <th>Column1</th>\n",
              "      <th>HC</th>\n",
              "      <th>UF</th>\n",
              "      <th>DATA-JULGAMENTO</th>\n",
              "      <th>PARTES</th>\n",
              "      <th>DECISÃO</th>\n",
              "      <th>URL</th>\n",
              "    </tr>\n",
              "  </thead>\n",
              "  <tbody>\n",
              "    <tr>\n",
              "      <th>0</th>\n",
              "      <td>0</td>\n",
              "      <td>HC 215089 AgR</td>\n",
              "      <td>PR</td>\n",
              "      <td>06/06/2022</td>\n",
              "      <td>AGTE.(S)  : M.G.D.  | ADV.(A/S)  : FAGNER SCHN...</td>\n",
              "      <td>O Tribunal, por unanimidade, negou provimento ...</td>\n",
              "      <td>https://jurisprudencia.stf.jus.br/pages/search...</td>\n",
              "    </tr>\n",
              "    <tr>\n",
              "      <th>1</th>\n",
              "      <td>1</td>\n",
              "      <td>HC 209608 ED-AgR-ED</td>\n",
              "      <td>SP</td>\n",
              "      <td>23/05/2022</td>\n",
              "      <td>EMBTE.(S)  : LEANDRO BRESSANE RAMOS  | ADV.(A/...</td>\n",
              "      <td>O Tribunal, por unanimidade, conheceu dos emba...</td>\n",
              "      <td>https://jurisprudencia.stf.jus.br/pages/search...</td>\n",
              "    </tr>\n",
              "    <tr>\n",
              "      <th>2</th>\n",
              "      <td>2</td>\n",
              "      <td>HC 212882 AgR-ED</td>\n",
              "      <td>RJ</td>\n",
              "      <td>16/05/2022</td>\n",
              "      <td>EMBTE.(S)  : KELLENSON AYRES KELLINHO FIGUEIRE...</td>\n",
              "      <td>O Tribunal, por unanimidade, rejeitou os embar...</td>\n",
              "      <td>https://jurisprudencia.stf.jus.br/pages/search...</td>\n",
              "    </tr>\n",
              "    <tr>\n",
              "      <th>3</th>\n",
              "      <td>3</td>\n",
              "      <td>HC 214006 AgR</td>\n",
              "      <td>SP</td>\n",
              "      <td>09/05/2022</td>\n",
              "      <td>AGTE.(S)  : DARCI JOSE VEDOIN  | ADV.(A/S)  : ...</td>\n",
              "      <td>O Tribunal, por unanimidade, conheceu do agrav...</td>\n",
              "      <td>https://jurisprudencia.stf.jus.br/pages/search...</td>\n",
              "    </tr>\n",
              "    <tr>\n",
              "      <th>4</th>\n",
              "      <td>4</td>\n",
              "      <td>HC 208677 AgR-ED</td>\n",
              "      <td>RS</td>\n",
              "      <td>22/04/2022</td>\n",
              "      <td>EMBTE.(S)  : ALCIR JOSÉ HENDGES  | ADV.(A/S)  ...</td>\n",
              "      <td>O Tribunal, por unanimidade, negou provimento ...</td>\n",
              "      <td>https://jurisprudencia.stf.jus.br/pages/search...</td>\n",
              "    </tr>\n",
              "  </tbody>\n",
              "</table>\n",
              "</div>\n",
              "      <button class=\"colab-df-convert\" onclick=\"convertToInteractive('df-9ffda9db-fac2-44f1-baf3-b03bb5c3cb14')\"\n",
              "              title=\"Convert this dataframe to an interactive table.\"\n",
              "              style=\"display:none;\">\n",
              "        \n",
              "  <svg xmlns=\"http://www.w3.org/2000/svg\" height=\"24px\"viewBox=\"0 0 24 24\"\n",
              "       width=\"24px\">\n",
              "    <path d=\"M0 0h24v24H0V0z\" fill=\"none\"/>\n",
              "    <path d=\"M18.56 5.44l.94 2.06.94-2.06 2.06-.94-2.06-.94-.94-2.06-.94 2.06-2.06.94zm-11 1L8.5 8.5l.94-2.06 2.06-.94-2.06-.94L8.5 2.5l-.94 2.06-2.06.94zm10 10l.94 2.06.94-2.06 2.06-.94-2.06-.94-.94-2.06-.94 2.06-2.06.94z\"/><path d=\"M17.41 7.96l-1.37-1.37c-.4-.4-.92-.59-1.43-.59-.52 0-1.04.2-1.43.59L10.3 9.45l-7.72 7.72c-.78.78-.78 2.05 0 2.83L4 21.41c.39.39.9.59 1.41.59.51 0 1.02-.2 1.41-.59l7.78-7.78 2.81-2.81c.8-.78.8-2.07 0-2.86zM5.41 20L4 18.59l7.72-7.72 1.47 1.35L5.41 20z\"/>\n",
              "  </svg>\n",
              "      </button>\n",
              "      \n",
              "  <style>\n",
              "    .colab-df-container {\n",
              "      display:flex;\n",
              "      flex-wrap:wrap;\n",
              "      gap: 12px;\n",
              "    }\n",
              "\n",
              "    .colab-df-convert {\n",
              "      background-color: #E8F0FE;\n",
              "      border: none;\n",
              "      border-radius: 50%;\n",
              "      cursor: pointer;\n",
              "      display: none;\n",
              "      fill: #1967D2;\n",
              "      height: 32px;\n",
              "      padding: 0 0 0 0;\n",
              "      width: 32px;\n",
              "    }\n",
              "\n",
              "    .colab-df-convert:hover {\n",
              "      background-color: #E2EBFA;\n",
              "      box-shadow: 0px 1px 2px rgba(60, 64, 67, 0.3), 0px 1px 3px 1px rgba(60, 64, 67, 0.15);\n",
              "      fill: #174EA6;\n",
              "    }\n",
              "\n",
              "    [theme=dark] .colab-df-convert {\n",
              "      background-color: #3B4455;\n",
              "      fill: #D2E3FC;\n",
              "    }\n",
              "\n",
              "    [theme=dark] .colab-df-convert:hover {\n",
              "      background-color: #434B5C;\n",
              "      box-shadow: 0px 1px 3px 1px rgba(0, 0, 0, 0.15);\n",
              "      filter: drop-shadow(0px 1px 2px rgba(0, 0, 0, 0.3));\n",
              "      fill: #FFFFFF;\n",
              "    }\n",
              "  </style>\n",
              "\n",
              "      <script>\n",
              "        const buttonEl =\n",
              "          document.querySelector('#df-9ffda9db-fac2-44f1-baf3-b03bb5c3cb14 button.colab-df-convert');\n",
              "        buttonEl.style.display =\n",
              "          google.colab.kernel.accessAllowed ? 'block' : 'none';\n",
              "\n",
              "        async function convertToInteractive(key) {\n",
              "          const element = document.querySelector('#df-9ffda9db-fac2-44f1-baf3-b03bb5c3cb14');\n",
              "          const dataTable =\n",
              "            await google.colab.kernel.invokeFunction('convertToInteractive',\n",
              "                                                     [key], {});\n",
              "          if (!dataTable) return;\n",
              "\n",
              "          const docLinkHtml = 'Like what you see? Visit the ' +\n",
              "            '<a target=\"_blank\" href=https://colab.research.google.com/notebooks/data_table.ipynb>data table notebook</a>'\n",
              "            + ' to learn more about interactive tables.';\n",
              "          element.innerHTML = '';\n",
              "          dataTable['output_type'] = 'display_data';\n",
              "          await google.colab.output.renderOutput(dataTable, element);\n",
              "          const docLink = document.createElement('div');\n",
              "          docLink.innerHTML = docLinkHtml;\n",
              "          element.appendChild(docLink);\n",
              "        }\n",
              "      </script>\n",
              "    </div>\n",
              "  </div>\n",
              "  "
            ]
          },
          "metadata": {},
          "execution_count": 39
        }
      ]
    },
    {
      "cell_type": "code",
      "metadata": {
        "id": "ge-NcEsFpzpH"
      },
      "source": [
        "#mesclando dataframes\n",
        "hcs = hcs1.merge(hcs2, on=titulo)"
      ],
      "execution_count": 40,
      "outputs": []
    },
    {
      "cell_type": "code",
      "source": [
        "#Dados para criação do dataset (csv)\n",
        "from datetime import date, datetime\n",
        "\n",
        "#data = datetime.today()\n",
        "#hoje = data.strftime('%d-%m-%Y')\n",
        "extens = '.csv'\n",
        "\n",
        "if choice == '1':\n",
        "  nome = 'merged-ADIs'\n",
        "if choice == '2':\n",
        "  nome = 'merged-HCs'\n"
      ],
      "metadata": {
        "id": "39wHHBkfosBp"
      },
      "execution_count": 41,
      "outputs": []
    },
    {
      "cell_type": "code",
      "source": [
        "#Salvando Dataset\n",
        "hcs.to_csv(f'{nome}{extens}', index = False)"
      ],
      "metadata": {
        "id": "OY343O5spBmy"
      },
      "execution_count": 42,
      "outputs": []
    }
  ]
}